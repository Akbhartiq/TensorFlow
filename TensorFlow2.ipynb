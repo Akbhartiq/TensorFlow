{
  "nbformat": 4,
  "nbformat_minor": 0,
  "metadata": {
    "colab": {
      "provenance": [],
      "authorship_tag": "ABX9TyMep9osfh/IPqTXAQnXGw/h",
      "include_colab_link": true
    },
    "kernelspec": {
      "name": "python3",
      "display_name": "Python 3"
    },
    "language_info": {
      "name": "python"
    }
  },
  "cells": [
    {
      "cell_type": "markdown",
      "metadata": {
        "id": "view-in-github",
        "colab_type": "text"
      },
      "source": [
        "<a href=\"https://colab.research.google.com/github/Akbhartiq/TensorFlow/blob/master/Day2.ipynb\" target=\"_parent\"><img src=\"https://colab.research.google.com/assets/colab-badge.svg\" alt=\"Open In Colab\"/></a>"
      ]
    },
    {
      "cell_type": "code",
      "execution_count": null,
      "metadata": {
        "id": "UTACO3ssjg8a"
      },
      "outputs": [],
      "source": [
        "#Welcome to the day2\n",
        "import tensorflow as tf"
      ]
    },
    {
      "cell_type": "code",
      "source": [
        "# Let's begin coding,keras is used in building Neural Networks\n",
        "from tensorflow import keras"
      ],
      "metadata": {
        "id": "4I9VgRO8jqDf"
      },
      "execution_count": null,
      "outputs": []
    },
    {
      "cell_type": "code",
      "source": [
        "from tensorflow.keras import layers"
      ],
      "metadata": {
        "id": "cNmT5hZfkA40"
      },
      "execution_count": null,
      "outputs": []
    },
    {
      "cell_type": "code",
      "source": [
        "from tensorflow.keras.datasets import mnist"
      ],
      "metadata": {
        "id": "rdI-UcpqkRiI"
      },
      "execution_count": null,
      "outputs": []
    },
    {
      "cell_type": "code",
      "source": [
        "# Let's load the Training dataset\n",
        "(x_train,y_train),(x_test,y_test)=mnist.load_data()\n",
        "print(x_train.shape)\n",
        "print(y_train.shape)\n",
        "print(x_test.shape)\n",
        "print(y_test.shape)\n"
      ],
      "metadata": {
        "colab": {
          "base_uri": "https://localhost:8080/"
        },
        "id": "kkUg05IykY5V",
        "outputId": "b1c3acef-e03f-4a5d-fad3-0b5ead70599c"
      },
      "execution_count": null,
      "outputs": [
        {
          "output_type": "stream",
          "name": "stdout",
          "text": [
            "(60000, 28, 28)\n",
            "(60000,)\n",
            "(10000, 28, 28)\n",
            "(10000,)\n"
          ]
        }
      ]
    },
    {
      "cell_type": "code",
      "source": [
        "# Let's start Building the Model\n",
        "x_train=x_train.reshape(-1,28*28).astype('float32') #flattenning the input features\n",
        "x_test=x_test.reshape(-1,28*28).astype('float32') #flattenning the input features\n",
        "\n",
        "\n",
        "# Model consists of 3 Layers with [512,256,10] neuros each\n",
        "model=keras.Sequential(\n",
        "    [\n",
        "        keras.Input(shape=(28*28)), #This allows to print module.summary()\n",
        "        layers.Dense(units=512,activation='relu'),\n",
        "        layers.Dense(units=256,activation='relu'),\n",
        "        layers.Dense(units=10)\n",
        "    ]\n",
        ")\n",
        "\n",
        "# Line added allows to print this summary before model.fit() line\n",
        "print(model.summary())\n",
        "\n",
        "# To exit from the Program\n",
        "# import sys\n",
        "# sys.exit()\n",
        "\n",
        "# compile the model: It specifies model configuration\n",
        "model.compile(\n",
        "    loss=keras.losses.SparseCategoricalCrossentropy(from_logits=True),\n",
        "    optimizer=keras.optimizers.Adam(lr=0.001),\n",
        "    metrics=['accuracy']\n",
        ")\n",
        "\n",
        "#Training the model\n",
        "model.fit(x_train,y_train,batch_size=32,epochs=5,verbose=2)\n",
        "model.evaluate(x_test,y_test,batch_size=32,verbose=2)\n",
        "\n"
      ],
      "metadata": {
        "colab": {
          "base_uri": "https://localhost:8080/",
          "height": 422
        },
        "id": "JUaWF5HNkwfS",
        "outputId": "3fb97370-2433-4b8f-b4a3-85e3268e03b4"
      },
      "execution_count": null,
      "outputs": [
        {
          "output_type": "stream",
          "name": "stdout",
          "text": [
            "Model: \"sequential_1\"\n",
            "_________________________________________________________________\n",
            " Layer (type)                Output Shape              Param #   \n",
            "=================================================================\n",
            " dense_3 (Dense)             (None, 512)               401920    \n",
            "                                                                 \n",
            " dense_4 (Dense)             (None, 256)               131328    \n",
            "                                                                 \n",
            " dense_5 (Dense)             (None, 10)                2570      \n",
            "                                                                 \n",
            "=================================================================\n",
            "Total params: 535818 (2.04 MB)\n",
            "Trainable params: 535818 (2.04 MB)\n",
            "Non-trainable params: 0 (0.00 Byte)\n",
            "_________________________________________________________________\n",
            "None\n"
          ]
        },
        {
          "output_type": "error",
          "ename": "SystemExit",
          "evalue": "",
          "traceback": [
            "An exception has occurred, use %tb to see the full traceback.\n",
            "\u001b[0;31mSystemExit\u001b[0m\n"
          ]
        },
        {
          "output_type": "stream",
          "name": "stderr",
          "text": [
            "/usr/local/lib/python3.10/dist-packages/IPython/core/interactiveshell.py:3561: UserWarning: To exit: use 'exit', 'quit', or Ctrl-D.\n",
            "  warn(\"To exit: use 'exit', 'quit', or Ctrl-D.\", stacklevel=1)\n"
          ]
        }
      ]
    },
    {
      "cell_type": "code",
      "source": [
        "# We can add the layers manually\n",
        "model=keras.Sequential()\n",
        "\n",
        "model.add(keras.Input(shape=(28*28)))\n",
        "model.add(layers.Dense(units=512,activation='relu'))\n",
        "print(model.summary())\n",
        "model.add(layers.Dense(units=256,activation='relu'))\n",
        "model.add(layers.Dense(units=10))\n"
      ],
      "metadata": {
        "colab": {
          "base_uri": "https://localhost:8080/"
        },
        "id": "uInsipYRn6g9",
        "outputId": "4ca4ee46-5820-4bca-ed74-df0733d7655f"
      },
      "execution_count": null,
      "outputs": [
        {
          "output_type": "stream",
          "name": "stdout",
          "text": [
            "Model: \"sequential_2\"\n",
            "_________________________________________________________________\n",
            " Layer (type)                Output Shape              Param #   \n",
            "=================================================================\n",
            " dense_6 (Dense)             (None, 512)               401920    \n",
            "                                                                 \n",
            "=================================================================\n",
            "Total params: 401920 (1.53 MB)\n",
            "Trainable params: 401920 (1.53 MB)\n",
            "Non-trainable params: 0 (0.00 Byte)\n",
            "_________________________________________________________________\n",
            "None\n"
          ]
        }
      ]
    },
    {
      "cell_type": "code",
      "source": [
        "# Functional Api(A bit more flexible)\n",
        "inputs=keras.Input(shape=(784))\n",
        "x=layers.Dense(512,activation='relu')(inputs)\n",
        "x=layers.Dense(256,activation='relu')(x)\n",
        "outputs=layers.Dense(10,activation='softmax')(x)\n",
        "model=keras.Model(inputs=inputs,outputs=outputs)\n",
        "\n",
        "model.compile(\n",
        "    loss=keras.losses.SparseCategoricalCrossentropy(from_logits=False),\n",
        "    optimizer=keras.optimizers.Adam(lr=0.001),\n",
        "    metrics=[\"accuracy\"],\n",
        ")\n",
        "\n",
        "model.fit(x_train,y_train,batch_size=32,epochs=5,verbose=2)\n",
        "model.evaluate(x_test,y_test,batch_size=32,verbose=2)"
      ],
      "metadata": {
        "colab": {
          "base_uri": "https://localhost:8080/"
        },
        "id": "eHCnjQOGpvco",
        "outputId": "a78f9a97-43a9-43d4-be9f-5c431dac3413"
      },
      "execution_count": null,
      "outputs": [
        {
          "output_type": "stream",
          "name": "stderr",
          "text": [
            "WARNING:absl:`lr` is deprecated in Keras optimizer, please use `learning_rate` or use the legacy optimizer, e.g.,tf.keras.optimizers.legacy.Adam.\n"
          ]
        },
        {
          "output_type": "stream",
          "name": "stdout",
          "text": [
            "Epoch 1/5\n",
            "1875/1875 - 16s - loss: 1.5660 - accuracy: 0.9038 - 16s/epoch - 9ms/step\n",
            "Epoch 2/5\n",
            "1875/1875 - 17s - loss: 0.2054 - accuracy: 0.9470 - 17s/epoch - 9ms/step\n",
            "Epoch 3/5\n",
            "1875/1875 - 16s - loss: 0.1594 - accuracy: 0.9567 - 16s/epoch - 8ms/step\n",
            "Epoch 4/5\n",
            "1875/1875 - 17s - loss: 0.1516 - accuracy: 0.9587 - 17s/epoch - 9ms/step\n",
            "Epoch 5/5\n",
            "1875/1875 - 16s - loss: 0.1365 - accuracy: 0.9646 - 16s/epoch - 9ms/step\n",
            "313/313 - 1s - loss: 0.1935 - accuracy: 0.9540 - 1s/epoch - 3ms/step\n"
          ]
        },
        {
          "output_type": "execute_result",
          "data": {
            "text/plain": [
              "[0.19347093999385834, 0.9539999961853027]"
            ]
          },
          "metadata": {},
          "execution_count": 13
        }
      ]
    },
    {
      "cell_type": "code",
      "source": [
        "# Have you ever thought to get the middle information\n",
        "'''We have the x_train,y_train'''\n",
        "# Let's build a model\n",
        "model=keras.Sequential()\n",
        "model.add(keras.Input(28*28))\n",
        "model.add(layers.Dense(units=512,activation='relu'))\n",
        "model.add(layers.Dense(units=256,activation='relu'))\n",
        "model.add(layers.Dense(units=10))\n",
        "\n",
        "print(type(model))\n",
        "print(model.inputs)\n",
        "print(model.layers)\n",
        "\n",
        "\n",
        "# model=keras.Model(inputs=model.inputs,outputs=[model.layers[-2].output])\n",
        "\n",
        "# feature=model.predict(x_train)\n",
        "# print(feature.shape)"
      ],
      "metadata": {
        "colab": {
          "base_uri": "https://localhost:8080/"
        },
        "id": "cL9zrDguq0Ky",
        "outputId": "61de0eb1-f05d-44fb-9e09-eb6b4f7f93ff"
      },
      "execution_count": null,
      "outputs": [
        {
          "output_type": "stream",
          "name": "stdout",
          "text": [
            "<class 'keras.src.engine.sequential.Sequential'>\n",
            "[<KerasTensor: shape=(None, 784) dtype=float32 (created by layer 'input_12')>]\n",
            "[<keras.src.layers.core.dense.Dense object at 0x7cb53e222a10>, <keras.src.layers.core.dense.Dense object at 0x7cb53e2abbb0>, <keras.src.layers.core.dense.Dense object at 0x7cb53e2e3e50>]\n"
          ]
        }
      ]
    },
    {
      "cell_type": "code",
      "source": [
        "# Have you ever thought to get the middle information\n",
        "'''We have the x_train,y_train'''\n",
        "# Let's build a model\n",
        "model=keras.Sequential()\n",
        "model.add(keras.Input(28*28))\n",
        "model.add(layers.Dense(units=512,activation='relu'))\n",
        "model.add(layers.Dense(units=256,activation='relu',name='my_layer'))\n",
        "model.add(layers.Dense(units=10))\n",
        "\n",
        "print(type(model))\n",
        "print(model.inputs)\n",
        "print(model.layers)\n",
        "\n",
        "\n",
        "model=keras.Model(inputs=model.inputs,outputs=[model.get_layer('my_layer').output])\n",
        "\n",
        "feature=model.predict(x_train)\n",
        "print(feature.shape)"
      ],
      "metadata": {
        "colab": {
          "base_uri": "https://localhost:8080/"
        },
        "id": "UkTJqko2qz1Y",
        "outputId": "5e103f2a-e87f-462a-b829-04f6b711017f"
      },
      "execution_count": null,
      "outputs": [
        {
          "output_type": "stream",
          "name": "stdout",
          "text": [
            "<class 'keras.src.engine.sequential.Sequential'>\n",
            "[<KerasTensor: shape=(None, 784) dtype=float32 (created by layer 'input_14')>]\n",
            "[<keras.src.layers.core.dense.Dense object at 0x7cb53e2e3eb0>, <keras.src.layers.core.dense.Dense object at 0x7cb53e294730>, <keras.src.layers.core.dense.Dense object at 0x7cb539adbfa0>]\n",
            "1875/1875 [==============================] - 6s 3ms/step\n",
            "(60000, 256)\n"
          ]
        }
      ]
    },
    {
      "cell_type": "code",
      "source": [
        "# Have you ever thought to get the middle information\n",
        "'''We have the x_train,y_train'''\n",
        "# Let's build a model\n",
        "model=keras.Sequential()\n",
        "model.add(keras.Input(28*28))\n",
        "model.add(layers.Dense(units=512,activation='relu'))\n",
        "model.add(layers.Dense(units=256,activation='relu'))\n",
        "model.add(layers.Dense(units=10))\n",
        "\n",
        "print(type(model))\n",
        "print(model.inputs)\n",
        "print(model.layers)\n",
        "\n",
        "\n",
        "model=keras.Model(inputs=model.inputs,outputs=[layer.output for layer in model.layers])\n",
        "\n",
        "features=model.predict(x_train)\n",
        "for feature in features:\n",
        "  print(feature.shape)"
      ],
      "metadata": {
        "colab": {
          "base_uri": "https://localhost:8080/"
        },
        "id": "7udIOsCVwdcV",
        "outputId": "1a504404-3cfd-48d8-f9fb-945d627d0e16"
      },
      "execution_count": null,
      "outputs": [
        {
          "output_type": "stream",
          "name": "stdout",
          "text": [
            "<class 'keras.src.engine.sequential.Sequential'>\n",
            "[<KerasTensor: shape=(None, 784) dtype=float32 (created by layer 'input_15')>]\n",
            "[<keras.src.layers.core.dense.Dense object at 0x7cb53e2b00a0>, <keras.src.layers.core.dense.Dense object at 0x7cb53e2b1240>, <keras.src.layers.core.dense.Dense object at 0x7cb53c7484c0>]\n",
            "1875/1875 [==============================] - 9s 5ms/step\n",
            "(60000, 512)\n",
            "(60000, 256)\n",
            "(60000, 10)\n"
          ]
        }
      ]
    },
    {
      "cell_type": "code",
      "source": [
        "# Suggestion to Take\n",
        "'''\n",
        "1.To improve the accuracy , increase the epoch of training\n",
        "2.Use different optimizers like Gradient Descent with Momentum,Adagrad,RmSprop\n",
        "3.what will be difference if we remove normalization of Data?\n",
        "'''"
      ],
      "metadata": {
        "id": "prkhj5Eyw9B8"
      },
      "execution_count": null,
      "outputs": []
    }
  ]
}
